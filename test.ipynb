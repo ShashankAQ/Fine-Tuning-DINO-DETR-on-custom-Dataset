{
  "nbformat": 4,
  "nbformat_minor": 0,
  "metadata": {
    "colab": {
      "provenance": []
    },
    "kernelspec": {
      "name": "python3",
      "display_name": "Python 3"
    },
    "language_info": {
      "name": "python"
    }
  },
  "cells": [
    {
      "cell_type": "code",
      "source": [
        "!pip install -r /content/DINO/requirements.txt"
      ],
      "metadata": {
        "id": "XrQT9dXiD9tL"
      },
      "execution_count": null,
      "outputs": []
    },
    {
      "cell_type": "code",
      "source": [
        "!pip install yapf==0.40.1"
      ],
      "metadata": {
        "id": "jD-DDHWdEAqT"
      },
      "execution_count": null,
      "outputs": []
    },
    {
      "cell_type": "code",
      "source": [
        "!pip install 'numpy<1.24'"
      ],
      "metadata": {
        "id": "I-5Gw_JJD_PM"
      },
      "execution_count": null,
      "outputs": []
    },
    {
      "cell_type": "code",
      "source": [
        "# Step 1: Change to the correct directory\n",
        "%cd /content/DINO/models/dino/ops\n",
        "\n",
        "# Step 2: Run the setup.py command\n",
        "!python setup.py build install"
      ],
      "metadata": {
        "id": "tArUv8YSD-WU"
      },
      "execution_count": null,
      "outputs": []
    },
    {
      "cell_type": "code",
      "source": [
        "!python test.py"
      ],
      "metadata": {
        "id": "whQWoSvUEFYT"
      },
      "execution_count": null,
      "outputs": []
    },
    {
      "cell_type": "code",
      "source": [
        "import sys\n",
        "sys.path.append('/content/DINO')\n"
      ],
      "metadata": {
        "id": "BY4LShvqED4Y"
      },
      "execution_count": null,
      "outputs": []
    },
    {
      "cell_type": "code",
      "source": [
        "%cd /content/DINO"
      ],
      "metadata": {
        "id": "p8CCJepJEIB4"
      },
      "execution_count": null,
      "outputs": []
    },
    {
      "cell_type": "markdown",
      "source": [
        "Testing the Fine-Tuned model"
      ],
      "metadata": {
        "id": "VwygT1vmEMLX"
      }
    },
    {
      "cell_type": "code",
      "source": [
        "import os, sys\n",
        "import torch, json\n",
        "import numpy as np\n",
        "\n",
        "from main import build_model_main\n",
        "from util.slconfig import SLConfig\n",
        "from datasets import build_dataset\n",
        "from util.visualizer import COCOVisualizer\n",
        "from util import box_ops"
      ],
      "metadata": {
        "id": "NA3lTOa3EWLQ"
      },
      "execution_count": null,
      "outputs": []
    },
    {
      "cell_type": "code",
      "execution_count": null,
      "metadata": {
        "id": "xkMuXnrFDxcl"
      },
      "outputs": [],
      "source": [
        "from PIL import Image\n",
        "import datasets.transforms as T"
      ]
    },
    {
      "cell_type": "code",
      "source": [
        "%cd /content/DINO/models/dino/ops"
      ],
      "metadata": {
        "id": "qlzB6urYEZPZ"
      },
      "execution_count": null,
      "outputs": []
    },
    {
      "cell_type": "code",
      "source": [
        "!python setup.py build_ext --inplace"
      ],
      "metadata": {
        "id": "p9p-zfQuEl6E"
      },
      "execution_count": null,
      "outputs": []
    },
    {
      "cell_type": "code",
      "source": [
        "image = Image.open(\"/content/DINO/16268.jpg\").convert(\"RGB\")"
      ],
      "metadata": {
        "id": "oYVwkVQZD0Y-"
      },
      "execution_count": null,
      "outputs": []
    },
    {
      "cell_type": "code",
      "source": [
        "transform = T.Compose([\n",
        "    T.RandomResize([800], max_size=1333),\n",
        "    T.ToTensor(),\n",
        "    T.Normalize([0.485, 0.456, 0.406], [0.229, 0.224, 0.225])\n",
        "])\n",
        "image, _ = transform(image, None)"
      ],
      "metadata": {
        "id": "1GP-jF_HD1dV"
      },
      "execution_count": null,
      "outputs": []
    },
    {
      "cell_type": "code",
      "source": [
        "model_config_path = \"config/DINO/DINO_4scale.py\"\n",
        "model_checkpoint_path = \"/content/DINO/logs/DINO/R50-MS4/checkpoint.pth\"\n"
      ],
      "metadata": {
        "id": "7HPAi9PQD3M4"
      },
      "execution_count": null,
      "outputs": []
    },
    {
      "cell_type": "code",
      "source": [
        "args = SLConfig.fromfile(model_config_path)\n",
        "args.device = 'cuda'\n",
        "model, criterion, postprocessors = build_model_main(args)\n",
        "checkpoint = torch.load(model_checkpoint_path, map_location='cpu')\n",
        "model.load_state_dict(checkpoint['model'])\n",
        "_ = model.eval()"
      ],
      "metadata": {
        "id": "JiuegBqzD4ik"
      },
      "execution_count": null,
      "outputs": []
    },
    {
      "cell_type": "code",
      "source": [
        "output = model.cuda()(image[None].cuda())\n",
        "output = postprocessors['bbox'](output, torch.Tensor([[1.0, 1.0]]).cuda())[0]"
      ],
      "metadata": {
        "id": "OjdgHuojD5ja"
      },
      "execution_count": null,
      "outputs": []
    },
    {
      "cell_type": "code",
      "source": [
        "thershold = 0.3 # set a thershold\n",
        "\n",
        "vslzr = COCOVisualizer()\n",
        "\n",
        "scores = output['scores']\n",
        "labels = output['labels']\n",
        "boxes = box_ops.box_xyxy_to_cxcywh(output['boxes'])\n",
        "select_mask = scores > thershold\n",
        "\n",
        "box_label = [id2name[int(item)] for item in labels[select_mask]]\n",
        "pred_dict = {\n",
        "    'boxes': boxes[select_mask],\n",
        "    'size': torch.Tensor([image.shape[1], image.shape[2]]),\n",
        "    'box_label': box_label\n",
        "}\n",
        "vslzr.visualize(image, pred_dict, savedir=None, dpi=100)"
      ],
      "metadata": {
        "id": "M46R3FdPD6Zq"
      },
      "execution_count": null,
      "outputs": []
    }
  ]
}